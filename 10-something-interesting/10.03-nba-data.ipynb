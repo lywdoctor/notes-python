{
 "cells": [
  {
   "cell_type": "markdown",
   "metadata": {},
   "source": [
    "# 探索 NBA 数据"
   ]
  },
  {
   "cell_type": "markdown",
   "metadata": {},
   "source": [
    "我们首先安装 `Goldsberry` 包，项目源地址：\n",
    "\n",
    "https://github.com/bradleyfay/py-Goldsberry\n",
    "\n",
    "使用 `pip` 安装：\n",
    "\n",
    "    pip install py-goldsberry\n",
    "\n",
    "该包的接口与 `pandas` 兼容，可以与 `pandas` 的 `DataFrame` 一起使用。"
   ]
  },
  {
   "cell_type": "code",
   "execution_count": 1,
   "metadata": {
    "collapsed": true
   },
   "outputs": [],
   "source": [
    "import goldsberry as gb\n",
    "import pandas as pd"
   ]
  },
  {
   "cell_type": "markdown",
   "metadata": {},
   "source": [
    "当前使用的版本号为："
   ]
  },
  {
   "cell_type": "code",
   "execution_count": 2,
   "metadata": {},
   "outputs": [
    {
     "data": {
      "text/plain": [
       "'0.8.0.1'"
      ]
     },
     "execution_count": 2,
     "metadata": {},
     "output_type": "execute_result"
    }
   ],
   "source": [
    "gb.__version__"
   ]
  },
  {
   "cell_type": "markdown",
   "metadata": {},
   "source": [
    "## 球员信息"
   ]
  },
  {
   "cell_type": "markdown",
   "metadata": {},
   "source": [
    "获得 `2015-2016` 赛季运动员的名单："
   ]
  },
  {
   "cell_type": "code",
   "execution_count": 3,
   "metadata": {},
   "outputs": [
    {
     "data": {
      "text/html": [
       "<div>\n",
       "<table border=\"1\" class=\"dataframe\">\n",
       "  <thead>\n",
       "    <tr style=\"text-align: right;\">\n",
       "      <th></th>\n",
       "      <th>DISPLAY_LAST_COMMA_FIRST</th>\n",
       "      <th>FROM_YEAR</th>\n",
       "      <th>GAMES_PLAYED_FLAG</th>\n",
       "      <th>PERSON_ID</th>\n",
       "      <th>PLAYERCODE</th>\n",
       "      <th>ROSTERSTATUS</th>\n",
       "      <th>TEAM_ABBREVIATION</th>\n",
       "      <th>TEAM_CITY</th>\n",
       "      <th>TEAM_CODE</th>\n",
       "      <th>TEAM_ID</th>\n",
       "      <th>TEAM_NAME</th>\n",
       "      <th>TO_YEAR</th>\n",
       "    </tr>\n",
       "  </thead>\n",
       "  <tbody>\n",
       "    <tr>\n",
       "      <th>0</th>\n",
       "      <td>Acy, Quincy</td>\n",
       "      <td>2012</td>\n",
       "      <td>Y</td>\n",
       "      <td>203112</td>\n",
       "      <td>quincy_acy</td>\n",
       "      <td>1</td>\n",
       "      <td>SAC</td>\n",
       "      <td>Sacramento</td>\n",
       "      <td>kings</td>\n",
       "      <td>1610612758</td>\n",
       "      <td>Kings</td>\n",
       "      <td>2015</td>\n",
       "    </tr>\n",
       "    <tr>\n",
       "      <th>1</th>\n",
       "      <td>Adams, Jordan</td>\n",
       "      <td>2014</td>\n",
       "      <td>Y</td>\n",
       "      <td>203919</td>\n",
       "      <td>jordan_adams</td>\n",
       "      <td>1</td>\n",
       "      <td>MEM</td>\n",
       "      <td>Memphis</td>\n",
       "      <td>grizzlies</td>\n",
       "      <td>1610612763</td>\n",
       "      <td>Grizzlies</td>\n",
       "      <td>2015</td>\n",
       "    </tr>\n",
       "    <tr>\n",
       "      <th>2</th>\n",
       "      <td>Adams, Steven</td>\n",
       "      <td>2013</td>\n",
       "      <td>Y</td>\n",
       "      <td>203500</td>\n",
       "      <td>steven_adams</td>\n",
       "      <td>1</td>\n",
       "      <td>OKC</td>\n",
       "      <td>Oklahoma City</td>\n",
       "      <td>thunder</td>\n",
       "      <td>1610612760</td>\n",
       "      <td>Thunder</td>\n",
       "      <td>2015</td>\n",
       "    </tr>\n",
       "    <tr>\n",
       "      <th>3</th>\n",
       "      <td>Afflalo, Arron</td>\n",
       "      <td>2007</td>\n",
       "      <td>Y</td>\n",
       "      <td>201167</td>\n",
       "      <td>arron_afflalo</td>\n",
       "      <td>1</td>\n",
       "      <td>NYK</td>\n",
       "      <td>New York</td>\n",
       "      <td>knicks</td>\n",
       "      <td>1610612752</td>\n",
       "      <td>Knicks</td>\n",
       "      <td>2015</td>\n",
       "    </tr>\n",
       "    <tr>\n",
       "      <th>4</th>\n",
       "      <td>Ajinca, Alexis</td>\n",
       "      <td>2008</td>\n",
       "      <td>Y</td>\n",
       "      <td>201582</td>\n",
       "      <td>alexis_ajinca</td>\n",
       "      <td>1</td>\n",
       "      <td>NOP</td>\n",
       "      <td>New Orleans</td>\n",
       "      <td>pelicans</td>\n",
       "      <td>1610612740</td>\n",
       "      <td>Pelicans</td>\n",
       "      <td>2015</td>\n",
       "    </tr>\n",
       "  </tbody>\n",
       "</table>\n",
       "</div>"
      ],
      "text/plain": [
       "  DISPLAY_LAST_COMMA_FIRST FROM_YEAR GAMES_PLAYED_FLAG  PERSON_ID  \\\n",
       "0              Acy, Quincy      2012                 Y     203112   \n",
       "1            Adams, Jordan      2014                 Y     203919   \n",
       "2            Adams, Steven      2013                 Y     203500   \n",
       "3           Afflalo, Arron      2007                 Y     201167   \n",
       "4           Ajinca, Alexis      2008                 Y     201582   \n",
       "\n",
       "      PLAYERCODE  ROSTERSTATUS TEAM_ABBREVIATION      TEAM_CITY  TEAM_CODE  \\\n",
       "0     quincy_acy             1               SAC     Sacramento      kings   \n",
       "1   jordan_adams             1               MEM        Memphis  grizzlies   \n",
       "2   steven_adams             1               OKC  Oklahoma City    thunder   \n",
       "3  arron_afflalo             1               NYK       New York     knicks   \n",
       "4  alexis_ajinca             1               NOP    New Orleans   pelicans   \n",
       "\n",
       "      TEAM_ID  TEAM_NAME TO_YEAR  \n",
       "0  1610612758      Kings    2015  \n",
       "1  1610612763  Grizzlies    2015  \n",
       "2  1610612760    Thunder    2015  \n",
       "3  1610612752     Knicks    2015  \n",
       "4  1610612740   Pelicans    2015  "
      ]
     },
     "execution_count": 3,
     "metadata": {},
     "output_type": "execute_result"
    }
   ],
   "source": [
    "players = gb.PlayerList().players()\n",
    "players = pd.DataFrame(players)\n",
    "\n",
    "players.head()"
   ]
  },
  {
   "cell_type": "markdown",
   "metadata": {},
   "source": [
    "球员总数为："
   ]
  },
  {
   "cell_type": "code",
   "execution_count": 4,
   "metadata": {},
   "outputs": [
    {
     "name": "stdout",
     "output_type": "stream",
     "text": [
      "464\n"
     ]
    }
   ],
   "source": [
    "print len(players)"
   ]
  },
  {
   "cell_type": "markdown",
   "metadata": {},
   "source": [
    "通过查询特定的 `TEAM_ABBREVIATION`，我们可以查看某个球队本赛季的球员，比如 `2014-2015` 赛季的总冠军金州勇士 `GSW`："
   ]
  },
  {
   "cell_type": "code",
   "execution_count": 5,
   "metadata": {},
   "outputs": [
    {
     "data": {
      "text/html": [
       "<div>\n",
       "<table border=\"1\" class=\"dataframe\">\n",
       "  <thead>\n",
       "    <tr style=\"text-align: right;\">\n",
       "      <th></th>\n",
       "      <th>DISPLAY_LAST_COMMA_FIRST</th>\n",
       "      <th>FROM_YEAR</th>\n",
       "      <th>TEAM_ABBREVIATION</th>\n",
       "      <th>TEAM_CITY</th>\n",
       "      <th>TEAM_NAME</th>\n",
       "      <th>PERSON_ID</th>\n",
       "    </tr>\n",
       "  </thead>\n",
       "  <tbody>\n",
       "    <tr>\n",
       "      <th>30</th>\n",
       "      <td>Barbosa, Leandro</td>\n",
       "      <td>2003</td>\n",
       "      <td>GSW</td>\n",
       "      <td>Golden State</td>\n",
       "      <td>Warriors</td>\n",
       "      <td>2571</td>\n",
       "    </tr>\n",
       "    <tr>\n",
       "      <th>33</th>\n",
       "      <td>Barnes, Harrison</td>\n",
       "      <td>2012</td>\n",
       "      <td>GSW</td>\n",
       "      <td>Golden State</td>\n",
       "      <td>Warriors</td>\n",
       "      <td>203084</td>\n",
       "    </tr>\n",
       "    <tr>\n",
       "      <th>52</th>\n",
       "      <td>Bogut, Andrew</td>\n",
       "      <td>2005</td>\n",
       "      <td>GSW</td>\n",
       "      <td>Golden State</td>\n",
       "      <td>Warriors</td>\n",
       "      <td>101106</td>\n",
       "    </tr>\n",
       "    <tr>\n",
       "      <th>86</th>\n",
       "      <td>Clark, Ian</td>\n",
       "      <td>2013</td>\n",
       "      <td>GSW</td>\n",
       "      <td>Golden State</td>\n",
       "      <td>Warriors</td>\n",
       "      <td>203546</td>\n",
       "    </tr>\n",
       "    <tr>\n",
       "      <th>103</th>\n",
       "      <td>Curry, Stephen</td>\n",
       "      <td>2009</td>\n",
       "      <td>GSW</td>\n",
       "      <td>Golden State</td>\n",
       "      <td>Warriors</td>\n",
       "      <td>201939</td>\n",
       "    </tr>\n",
       "    <tr>\n",
       "      <th>135</th>\n",
       "      <td>Ezeli, Festus</td>\n",
       "      <td>2012</td>\n",
       "      <td>GSW</td>\n",
       "      <td>Golden State</td>\n",
       "      <td>Warriors</td>\n",
       "      <td>203105</td>\n",
       "    </tr>\n",
       "    <tr>\n",
       "      <th>164</th>\n",
       "      <td>Green, Draymond</td>\n",
       "      <td>2012</td>\n",
       "      <td>GSW</td>\n",
       "      <td>Golden State</td>\n",
       "      <td>Warriors</td>\n",
       "      <td>203110</td>\n",
       "    </tr>\n",
       "    <tr>\n",
       "      <th>209</th>\n",
       "      <td>Iguodala, Andre</td>\n",
       "      <td>2004</td>\n",
       "      <td>GSW</td>\n",
       "      <td>Golden State</td>\n",
       "      <td>Warriors</td>\n",
       "      <td>2738</td>\n",
       "    </tr>\n",
       "    <tr>\n",
       "      <th>262</th>\n",
       "      <td>Livingston, Shaun</td>\n",
       "      <td>2004</td>\n",
       "      <td>GSW</td>\n",
       "      <td>Golden State</td>\n",
       "      <td>Warriors</td>\n",
       "      <td>2733</td>\n",
       "    </tr>\n",
       "    <tr>\n",
       "      <th>263</th>\n",
       "      <td>Looney, Kevon</td>\n",
       "      <td>2015</td>\n",
       "      <td>GSW</td>\n",
       "      <td>Golden State</td>\n",
       "      <td>Warriors</td>\n",
       "      <td>1626172</td>\n",
       "    </tr>\n",
       "    <tr>\n",
       "      <th>279</th>\n",
       "      <td>McAdoo, James Michael</td>\n",
       "      <td>2014</td>\n",
       "      <td>GSW</td>\n",
       "      <td>Golden State</td>\n",
       "      <td>Warriors</td>\n",
       "      <td>203949</td>\n",
       "    </tr>\n",
       "    <tr>\n",
       "      <th>377</th>\n",
       "      <td>Rush, Brandon</td>\n",
       "      <td>2008</td>\n",
       "      <td>GSW</td>\n",
       "      <td>Golden State</td>\n",
       "      <td>Warriors</td>\n",
       "      <td>201575</td>\n",
       "    </tr>\n",
       "    <tr>\n",
       "      <th>398</th>\n",
       "      <td>Speights, Marreese</td>\n",
       "      <td>2008</td>\n",
       "      <td>GSW</td>\n",
       "      <td>Golden State</td>\n",
       "      <td>Warriors</td>\n",
       "      <td>201578</td>\n",
       "    </tr>\n",
       "    <tr>\n",
       "      <th>414</th>\n",
       "      <td>Thompson, Jason</td>\n",
       "      <td>2008</td>\n",
       "      <td>GSW</td>\n",
       "      <td>Golden State</td>\n",
       "      <td>Warriors</td>\n",
       "      <td>201574</td>\n",
       "    </tr>\n",
       "    <tr>\n",
       "      <th>415</th>\n",
       "      <td>Thompson, Klay</td>\n",
       "      <td>2011</td>\n",
       "      <td>GSW</td>\n",
       "      <td>Golden State</td>\n",
       "      <td>Warriors</td>\n",
       "      <td>202691</td>\n",
       "    </tr>\n",
       "  </tbody>\n",
       "</table>\n",
       "</div>"
      ],
      "text/plain": [
       "    DISPLAY_LAST_COMMA_FIRST FROM_YEAR TEAM_ABBREVIATION     TEAM_CITY  \\\n",
       "30          Barbosa, Leandro      2003               GSW  Golden State   \n",
       "33          Barnes, Harrison      2012               GSW  Golden State   \n",
       "52             Bogut, Andrew      2005               GSW  Golden State   \n",
       "86                Clark, Ian      2013               GSW  Golden State   \n",
       "103           Curry, Stephen      2009               GSW  Golden State   \n",
       "135            Ezeli, Festus      2012               GSW  Golden State   \n",
       "164          Green, Draymond      2012               GSW  Golden State   \n",
       "209          Iguodala, Andre      2004               GSW  Golden State   \n",
       "262        Livingston, Shaun      2004               GSW  Golden State   \n",
       "263            Looney, Kevon      2015               GSW  Golden State   \n",
       "279    McAdoo, James Michael      2014               GSW  Golden State   \n",
       "377            Rush, Brandon      2008               GSW  Golden State   \n",
       "398       Speights, Marreese      2008               GSW  Golden State   \n",
       "414          Thompson, Jason      2008               GSW  Golden State   \n",
       "415           Thompson, Klay      2011               GSW  Golden State   \n",
       "\n",
       "    TEAM_NAME  PERSON_ID  \n",
       "30   Warriors       2571  \n",
       "33   Warriors     203084  \n",
       "52   Warriors     101106  \n",
       "86   Warriors     203546  \n",
       "103  Warriors     201939  \n",
       "135  Warriors     203105  \n",
       "164  Warriors     203110  \n",
       "209  Warriors       2738  \n",
       "262  Warriors       2733  \n",
       "263  Warriors    1626172  \n",
       "279  Warriors     203949  \n",
       "377  Warriors     201575  \n",
       "398  Warriors     201578  \n",
       "414  Warriors     201574  \n",
       "415  Warriors     202691  "
      ]
     },
     "execution_count": 5,
     "metadata": {},
     "output_type": "execute_result"
    }
   ],
   "source": [
    "gsw_players = players.ix[players[\"TEAM_ABBREVIATION\"] == \"GSW\"]\n",
    "\n",
    "gsw_players[[\"DISPLAY_LAST_COMMA_FIRST\", \"FROM_YEAR\", \"TEAM_ABBREVIATION\", \"TEAM_CITY\", \"TEAM_NAME\", \"PERSON_ID\"]]"
   ]
  },
  {
   "cell_type": "markdown",
   "metadata": {},
   "source": [
    "## 球员比赛数据"
   ]
  },
  {
   "cell_type": "markdown",
   "metadata": {},
   "source": [
    "通过 `DISPLAY_LAST_COMMA_FIRST`，我们来查询宣布本赛季之后退役的科比布莱恩特（`Kobe, Bryant`）的信息："
   ]
  },
  {
   "cell_type": "code",
   "execution_count": 6,
   "metadata": {
    "scrolled": true
   },
   "outputs": [
    {
     "data": {
      "text/html": [
       "<div>\n",
       "<table border=\"1\" class=\"dataframe\">\n",
       "  <thead>\n",
       "    <tr style=\"text-align: right;\">\n",
       "      <th></th>\n",
       "      <th>DISPLAY_LAST_COMMA_FIRST</th>\n",
       "      <th>FROM_YEAR</th>\n",
       "      <th>GAMES_PLAYED_FLAG</th>\n",
       "      <th>PERSON_ID</th>\n",
       "      <th>PLAYERCODE</th>\n",
       "      <th>ROSTERSTATUS</th>\n",
       "      <th>TEAM_ABBREVIATION</th>\n",
       "      <th>TEAM_CITY</th>\n",
       "      <th>TEAM_CODE</th>\n",
       "      <th>TEAM_ID</th>\n",
       "      <th>TEAM_NAME</th>\n",
       "      <th>TO_YEAR</th>\n",
       "    </tr>\n",
       "  </thead>\n",
       "  <tbody>\n",
       "    <tr>\n",
       "      <th>64</th>\n",
       "      <td>Bryant, Kobe</td>\n",
       "      <td>1996</td>\n",
       "      <td>Y</td>\n",
       "      <td>977</td>\n",
       "      <td>kobe_bryant</td>\n",
       "      <td>1</td>\n",
       "      <td>LAL</td>\n",
       "      <td>Los Angeles</td>\n",
       "      <td>lakers</td>\n",
       "      <td>1610612747</td>\n",
       "      <td>Lakers</td>\n",
       "      <td>2015</td>\n",
       "    </tr>\n",
       "  </tbody>\n",
       "</table>\n",
       "</div>"
      ],
      "text/plain": [
       "   DISPLAY_LAST_COMMA_FIRST FROM_YEAR GAMES_PLAYED_FLAG  PERSON_ID  \\\n",
       "64             Bryant, Kobe      1996                 Y        977   \n",
       "\n",
       "     PLAYERCODE  ROSTERSTATUS TEAM_ABBREVIATION    TEAM_CITY TEAM_CODE  \\\n",
       "64  kobe_bryant             1               LAL  Los Angeles    lakers   \n",
       "\n",
       "       TEAM_ID TEAM_NAME TO_YEAR  \n",
       "64  1610612747    Lakers    2015  "
      ]
     },
     "execution_count": 6,
     "metadata": {},
     "output_type": "execute_result"
    }
   ],
   "source": [
    "kobe = players.ix[players[\"DISPLAY_LAST_COMMA_FIRST\"].str.contains(\"Kobe\")]\n",
    "\n",
    "kobe"
   ]
  },
  {
   "cell_type": "markdown",
   "metadata": {},
   "source": [
    "为了方便，我们将 `Kobe` 的 `ID` 放到变量中去："
   ]
  },
  {
   "cell_type": "code",
   "execution_count": 7,
   "metadata": {},
   "outputs": [],
   "source": [
    "kobe_id = 977"
   ]
  },
  {
   "cell_type": "markdown",
   "metadata": {},
   "source": [
    "我们来看本赛季 `Kobe` 的比赛记录："
   ]
  },
  {
   "cell_type": "code",
   "execution_count": 8,
   "metadata": {},
   "outputs": [
    {
     "data": {
      "text/html": [
       "<div>\n",
       "<table border=\"1\" class=\"dataframe\">\n",
       "  <thead>\n",
       "    <tr style=\"text-align: right;\">\n",
       "      <th></th>\n",
       "      <th>AST</th>\n",
       "      <th>BLK</th>\n",
       "      <th>DREB</th>\n",
       "      <th>FG3A</th>\n",
       "      <th>FG3M</th>\n",
       "      <th>FG3_PCT</th>\n",
       "      <th>FGA</th>\n",
       "      <th>FGM</th>\n",
       "      <th>FG_PCT</th>\n",
       "      <th>FTA</th>\n",
       "      <th>...</th>\n",
       "      <th>PF</th>\n",
       "      <th>PLUS_MINUS</th>\n",
       "      <th>PTS</th>\n",
       "      <th>Player_ID</th>\n",
       "      <th>REB</th>\n",
       "      <th>SEASON_ID</th>\n",
       "      <th>STL</th>\n",
       "      <th>TOV</th>\n",
       "      <th>VIDEO_AVAILABLE</th>\n",
       "      <th>WL</th>\n",
       "    </tr>\n",
       "  </thead>\n",
       "  <tbody>\n",
       "    <tr>\n",
       "      <th>0</th>\n",
       "      <td>3</td>\n",
       "      <td>0</td>\n",
       "      <td>6</td>\n",
       "      <td>7</td>\n",
       "      <td>3</td>\n",
       "      <td>0.429</td>\n",
       "      <td>16</td>\n",
       "      <td>5</td>\n",
       "      <td>0.313</td>\n",
       "      <td>4</td>\n",
       "      <td>...</td>\n",
       "      <td>2</td>\n",
       "      <td>-19</td>\n",
       "      <td>17</td>\n",
       "      <td>977</td>\n",
       "      <td>6</td>\n",
       "      <td>22015</td>\n",
       "      <td>1</td>\n",
       "      <td>3</td>\n",
       "      <td>1</td>\n",
       "      <td>L</td>\n",
       "    </tr>\n",
       "    <tr>\n",
       "      <th>1</th>\n",
       "      <td>0</td>\n",
       "      <td>0</td>\n",
       "      <td>4</td>\n",
       "      <td>14</td>\n",
       "      <td>4</td>\n",
       "      <td>0.286</td>\n",
       "      <td>25</td>\n",
       "      <td>6</td>\n",
       "      <td>0.240</td>\n",
       "      <td>4</td>\n",
       "      <td>...</td>\n",
       "      <td>0</td>\n",
       "      <td>-6</td>\n",
       "      <td>19</td>\n",
       "      <td>977</td>\n",
       "      <td>5</td>\n",
       "      <td>22015</td>\n",
       "      <td>0</td>\n",
       "      <td>0</td>\n",
       "      <td>1</td>\n",
       "      <td>L</td>\n",
       "    </tr>\n",
       "    <tr>\n",
       "      <th>2</th>\n",
       "      <td>4</td>\n",
       "      <td>1</td>\n",
       "      <td>1</td>\n",
       "      <td>14</td>\n",
       "      <td>4</td>\n",
       "      <td>0.286</td>\n",
       "      <td>28</td>\n",
       "      <td>9</td>\n",
       "      <td>0.321</td>\n",
       "      <td>3</td>\n",
       "      <td>...</td>\n",
       "      <td>4</td>\n",
       "      <td>-2</td>\n",
       "      <td>25</td>\n",
       "      <td>977</td>\n",
       "      <td>2</td>\n",
       "      <td>22015</td>\n",
       "      <td>0</td>\n",
       "      <td>2</td>\n",
       "      <td>1</td>\n",
       "      <td>L</td>\n",
       "    </tr>\n",
       "    <tr>\n",
       "      <th>3</th>\n",
       "      <td>2</td>\n",
       "      <td>0</td>\n",
       "      <td>9</td>\n",
       "      <td>11</td>\n",
       "      <td>4</td>\n",
       "      <td>0.364</td>\n",
       "      <td>24</td>\n",
       "      <td>10</td>\n",
       "      <td>0.417</td>\n",
       "      <td>4</td>\n",
       "      <td>...</td>\n",
       "      <td>0</td>\n",
       "      <td>16</td>\n",
       "      <td>27</td>\n",
       "      <td>977</td>\n",
       "      <td>12</td>\n",
       "      <td>22015</td>\n",
       "      <td>2</td>\n",
       "      <td>1</td>\n",
       "      <td>1</td>\n",
       "      <td>W</td>\n",
       "    </tr>\n",
       "    <tr>\n",
       "      <th>4</th>\n",
       "      <td>5</td>\n",
       "      <td>0</td>\n",
       "      <td>3</td>\n",
       "      <td>11</td>\n",
       "      <td>7</td>\n",
       "      <td>0.636</td>\n",
       "      <td>21</td>\n",
       "      <td>10</td>\n",
       "      <td>0.476</td>\n",
       "      <td>12</td>\n",
       "      <td>...</td>\n",
       "      <td>3</td>\n",
       "      <td>6</td>\n",
       "      <td>38</td>\n",
       "      <td>977</td>\n",
       "      <td>5</td>\n",
       "      <td>22015</td>\n",
       "      <td>2</td>\n",
       "      <td>2</td>\n",
       "      <td>1</td>\n",
       "      <td>W</td>\n",
       "    </tr>\n",
       "  </tbody>\n",
       "</table>\n",
       "<p>5 rows × 27 columns</p>\n",
       "</div>"
      ],
      "text/plain": [
       "   AST  BLK  DREB  FG3A  FG3M  FG3_PCT  FGA  FGM  FG_PCT  FTA ...  PF  \\\n",
       "0    3    0     6     7     3    0.429   16    5   0.313    4 ...   2   \n",
       "1    0    0     4    14     4    0.286   25    6   0.240    4 ...   0   \n",
       "2    4    1     1    14     4    0.286   28    9   0.321    3 ...   4   \n",
       "3    2    0     9    11     4    0.364   24   10   0.417    4 ...   0   \n",
       "4    5    0     3    11     7    0.636   21   10   0.476   12 ...   3   \n",
       "\n",
       "   PLUS_MINUS PTS Player_ID REB  SEASON_ID  STL  TOV  VIDEO_AVAILABLE  WL  \n",
       "0         -19  17       977   6      22015    1    3                1   L  \n",
       "1          -6  19       977   5      22015    0    0                1   L  \n",
       "2          -2  25       977   2      22015    0    2                1   L  \n",
       "3          16  27       977  12      22015    2    1                1   W  \n",
       "4           6  38       977   5      22015    2    2                1   W  \n",
       "\n",
       "[5 rows x 27 columns]"
      ]
     },
     "execution_count": 8,
     "metadata": {},
     "output_type": "execute_result"
    }
   ],
   "source": [
    "kobe_logs = gb.player.game_logs(kobe_id)\n",
    "\n",
    "kobe_logs = pd.DataFrame(kobe_logs.logs())\n",
    "\n",
    "# 最近五场比赛\n",
    "kobe_logs.head()"
   ]
  },
  {
   "cell_type": "markdown",
   "metadata": {},
   "source": [
    "截至到全明星赛前，本赛季 `Kobe` 一共参加了 44 场比赛，其场均数据为："
   ]
  },
  {
   "cell_type": "code",
   "execution_count": 9,
   "metadata": {},
   "outputs": [
    {
     "data": {
      "text/plain": [
       "0     0021500795\n",
       "1     0021500776\n",
       "2     0021500767\n",
       "3     0021500747\n",
       "4     0021500734\n",
       "5     0021500720\n",
       "6     0021500697\n",
       "7     0021500662\n",
       "8     0021500653\n",
       "9     0021500638\n",
       "10    0021500614\n",
       "11    0021500608\n",
       "12    0021500592\n",
       "13    0021500576\n",
       "14    0021500549\n",
       "15    0021500539\n",
       "16    0021500476\n",
       "17    0021500458\n",
       "18    0021500455\n",
       "19    0021500440\n",
       "20    0021500435\n",
       "21    0021500422\n",
       "22    0021500385\n",
       "23    0021500370\n",
       "24    0021500349\n",
       "25    0021500342\n",
       "26    0021500325\n",
       "27    0021500308\n",
       "28    0021500301\n",
       "29    0021500286\n",
       "30    0021500269\n",
       "31    0021500263\n",
       "32    0021500253\n",
       "33    0021500244\n",
       "34    0021500214\n",
       "35    0021500201\n",
       "36    0021500188\n",
       "37    0021500151\n",
       "38    0021500135\n",
       "39    0021500095\n",
       "40    0021500077\n",
       "41    0021500059\n",
       "42    0021500045\n",
       "43    0021500031\n",
       "44    0021500017\n",
       "Name: Game_ID, dtype: object"
      ]
     },
     "execution_count": 9,
     "metadata": {},
     "output_type": "execute_result"
    }
   ],
   "source": [
    "kobe_logs.Game_ID"
   ]
  },
  {
   "cell_type": "code",
   "execution_count": 10,
   "metadata": {},
   "outputs": [
    {
     "name": "stdout",
     "output_type": "stream",
     "text": [
      "得分：16.9\n",
      "篮板：4.2\n",
      "助攻：3.4\n",
      "盖帽：0.2\n",
      "时间：29.3\n",
      "抢断：1.0\n",
      "失误：2.2\n",
      "犯规：1.9\n",
      "投篮：34.9%\n",
      "三分：28.0%\n",
      "罚篮：80.3%\n",
      "后篮板：3.5\n",
      "前篮板：0.7\n",
      "正负值：-7.9\n"
     ]
    }
   ],
   "source": [
    "def show_avg_info(avg):\n",
    "    print \"得分：{:.1f}\".format(avg.ix[\"PTS\"])\n",
    "    print \"篮板：{:.1f}\".format(avg.ix[\"REB\"])\n",
    "    print \"助攻：{:.1f}\".format(avg.ix[\"AST\"])\n",
    "    print \"盖帽：{:.1f}\".format(avg.ix[\"BLK\"])\n",
    "    print \"时间：{:.1f}\".format(avg.ix[\"MIN\"])\n",
    "    print \"抢断：{:.1f}\".format(avg.ix[\"STL\"])\n",
    "    print \"失误：{:.1f}\".format(avg.ix[\"TOV\"])\n",
    "    print \"犯规：{:.1f}\".format(avg.ix[\"PF\"])\n",
    "    print \"投篮：{:.1f}%\".format(avg.ix[\"FGM\"] * 100 / avg.ix[\"FGA\"])\n",
    "    print \"三分：{:.1f}%\".format(avg.ix[\"FG3M\"] * 100 / avg.ix[\"FG3A\"])\n",
    "    print \"罚篮：{:.1f}%\".format(avg.ix[\"FTM\"] * 100 / avg.ix[\"FTA\"])\n",
    "    print \"后篮板：{:.1f}\".format(avg.ix[\"DREB\"])\n",
    "    print \"前篮板：{:.1f}\".format(avg.ix[\"OREB\"])\n",
    "    print \"正负值：{:.1f}\".format(avg.ix[\"PLUS_MINUS\"])\n",
    "    \n",
    "show_avg_info(kobe_logs.mean())"
   ]
  },
  {
   "cell_type": "markdown",
   "metadata": {},
   "source": [
    "再看一下史提芬库里的场均数据（不要问我为什么跪着看球）："
   ]
  },
  {
   "cell_type": "code",
   "execution_count": 3,
   "metadata": {},
   "outputs": [
    {
     "ename": "NameError",
     "evalue": "name 'gb' is not defined",
     "output_type": "error",
     "traceback": [
      "\u001b[1;31m---------------------------------------------------------------------------\u001b[0m",
      "\u001b[1;31mNameError\u001b[0m                                 Traceback (most recent call last)",
      "\u001b[1;32m<ipython-input-3-4af3c73d59cb>\u001b[0m in \u001b[0;36m<module>\u001b[1;34m()\u001b[0m\n\u001b[0;32m      1\u001b[0m \u001b[0mcurry_id\u001b[0m \u001b[1;33m=\u001b[0m \u001b[1;36m201939\u001b[0m\u001b[1;33m\u001b[0m\u001b[0m\n\u001b[1;32m----> 2\u001b[1;33m \u001b[0mcurry_logs\u001b[0m \u001b[1;33m=\u001b[0m \u001b[0mgb\u001b[0m\u001b[1;33m.\u001b[0m\u001b[0mplayer\u001b[0m\u001b[1;33m.\u001b[0m\u001b[0mgame_logs\u001b[0m\u001b[1;33m(\u001b[0m\u001b[0mcurry_id\u001b[0m\u001b[1;33m)\u001b[0m\u001b[1;33m\u001b[0m\u001b[0m\n\u001b[0m\u001b[0;32m      3\u001b[0m \u001b[0mcurry_logs\u001b[0m \u001b[1;33m=\u001b[0m \u001b[0mpd\u001b[0m\u001b[1;33m.\u001b[0m\u001b[0mDataFrame\u001b[0m\u001b[1;33m(\u001b[0m\u001b[0mcurry_logs\u001b[0m\u001b[1;33m.\u001b[0m\u001b[0mlogs\u001b[0m\u001b[1;33m(\u001b[0m\u001b[1;33m)\u001b[0m\u001b[1;33m)\u001b[0m\u001b[1;33m\u001b[0m\u001b[0m\n\u001b[0;32m      4\u001b[0m \u001b[1;33m\u001b[0m\u001b[0m\n\u001b[0;32m      5\u001b[0m \u001b[0mshow_avg_info\u001b[0m\u001b[1;33m(\u001b[0m\u001b[0mcurry_logs\u001b[0m\u001b[1;33m.\u001b[0m\u001b[0mmean\u001b[0m\u001b[1;33m(\u001b[0m\u001b[1;33m)\u001b[0m\u001b[1;33m)\u001b[0m\u001b[1;33m\u001b[0m\u001b[0m\n",
      "\u001b[1;31mNameError\u001b[0m: name 'gb' is not defined"
     ]
    }
   ],
   "source": [
    "curry_id = 201939\n",
    "curry_logs = gb.player.game_logs(curry_id)\n",
    "curry_logs = pd.DataFrame(curry_logs.logs())\n",
    "\n",
    "show_avg_info(curry_logs.mean())"
   ]
  },
  {
   "cell_type": "markdown",
   "metadata": {},
   "source": [
    "当然我们也可以对比一下职业生涯的数据："
   ]
  },
  {
   "cell_type": "code",
   "execution_count": 12,
   "metadata": {
    "collapsed": true
   },
   "outputs": [],
   "source": [
    "kobe_career = gb.player.career_stats(kobe_id)\n",
    "curry_career = gb.player.career_stats(curry_id)"
   ]
  },
  {
   "cell_type": "markdown",
   "metadata": {},
   "source": [
    "职业生涯最高："
   ]
  },
  {
   "cell_type": "code",
   "execution_count": 13,
   "metadata": {},
   "outputs": [
    {
     "name": "stdout",
     "output_type": "stream",
     "text": [
      "Kobe\n",
      "     GAME_DATE STAT  STAT_VALUE VS_TEAM_CITY VS_TEAM_NAME\n",
      "0  JAN 22 2006  PTS          81      Toronto      Raptors\n",
      "1  JAN 24 2010  REB          16      Toronto      Raptors\n",
      "5  JAN 15 2015  AST          17    Cleveland    Cavaliers\n",
      "Curry\n",
      "     GAME_DATE STAT  STAT_VALUE VS_TEAM_CITY VS_TEAM_NAME\n",
      "0  FEB 27 2013  PTS          54     New York       Knicks\n",
      "1  DEC 28 2015  REB          14   Sacramento        Kings\n",
      "5  DEC 27 2013  AST          16      Phoenix         Suns\n"
     ]
    }
   ],
   "source": [
    "def show_career_high(career):\n",
    "    career_high = pd.DataFrame(career.career_high()).ix[[0,1,5]]\n",
    "    print career_high[[\"GAME_DATE\", \"STAT\", \"STAT_VALUE\", \"VS_TEAM_CITY\", \"VS_TEAM_NAME\"]]\n",
    "\n",
    "print \"Kobe\"\n",
    "show_career_high(kobe_career)\n",
    "\n",
    "print \"Curry\"\n",
    "show_career_high(curry_career)"
   ]
  },
  {
   "cell_type": "markdown",
   "metadata": {},
   "source": [
    "本赛季最高："
   ]
  },
  {
   "cell_type": "code",
   "execution_count": 14,
   "metadata": {},
   "outputs": [
    {
     "name": "stdout",
     "output_type": "stream",
     "text": [
      "Kobe\n",
      "     GAME_DATE STAT  STAT_VALUE VS_TEAM_CITY  VS_TEAM_NAME\n",
      "0  FEB 02 2016  PTS          38    Minnesota  Timberwolves\n",
      "1  FEB 04 2016  REB          12  New Orleans      Pelicans\n",
      "5  NOV 15 2015  AST           9      Detroit       Pistons\n",
      "Curry\n",
      "     GAME_DATE STAT  STAT_VALUE VS_TEAM_CITY VS_TEAM_NAME\n",
      "0  OCT 31 2015  PTS          53  New Orleans     Pelicans\n",
      "1  DEC 28 2015  REB          14   Sacramento        Kings\n",
      "5  JAN 25 2016  STL           5  San Antonio        Spurs\n"
     ]
    }
   ],
   "source": [
    "def show_season_high(career):\n",
    "    career_high = pd.DataFrame(career.season_high()).ix[[0,1,5]]\n",
    "    print career_high[[\"GAME_DATE\", \"STAT\", \"STAT_VALUE\", \"VS_TEAM_CITY\", \"VS_TEAM_NAME\"]]\n",
    "\n",
    "print \"Kobe\"\n",
    "show_season_high(kobe_career)\n",
    "\n",
    "print \"Curry\"\n",
    "show_season_high(curry_career)"
   ]
  },
  {
   "cell_type": "markdown",
   "metadata": {},
   "source": [
    "## 比赛信息"
   ]
  },
  {
   "cell_type": "code",
   "execution_count": 15,
   "metadata": {},
   "outputs": [
    {
     "data": {
      "text/html": [
       "<div>\n",
       "<table border=\"1\" class=\"dataframe\">\n",
       "  <thead>\n",
       "    <tr style=\"text-align: right;\">\n",
       "      <th></th>\n",
       "      <th>AST</th>\n",
       "      <th>BLK</th>\n",
       "      <th>DREB</th>\n",
       "      <th>FG3A</th>\n",
       "      <th>FG3M</th>\n",
       "      <th>FG3_PCT</th>\n",
       "      <th>FGA</th>\n",
       "      <th>FGM</th>\n",
       "      <th>FG_PCT</th>\n",
       "      <th>FTA</th>\n",
       "      <th>...</th>\n",
       "      <th>PTS</th>\n",
       "      <th>REB</th>\n",
       "      <th>SEASON_ID</th>\n",
       "      <th>STL</th>\n",
       "      <th>TEAM_ABBREVIATION</th>\n",
       "      <th>TEAM_ID</th>\n",
       "      <th>TEAM_NAME</th>\n",
       "      <th>TOV</th>\n",
       "      <th>VIDEO_AVAILABLE</th>\n",
       "      <th>WL</th>\n",
       "    </tr>\n",
       "  </thead>\n",
       "  <tbody>\n",
       "    <tr>\n",
       "      <th>0</th>\n",
       "      <td>28</td>\n",
       "      <td>4</td>\n",
       "      <td>45</td>\n",
       "      <td>29</td>\n",
       "      <td>8</td>\n",
       "      <td>0.276</td>\n",
       "      <td>124</td>\n",
       "      <td>56</td>\n",
       "      <td>0.452</td>\n",
       "      <td>46</td>\n",
       "      <td>...</td>\n",
       "      <td>147</td>\n",
       "      <td>64</td>\n",
       "      <td>22015</td>\n",
       "      <td>7</td>\n",
       "      <td>DET</td>\n",
       "      <td>1610612765</td>\n",
       "      <td>Detroit Pistons</td>\n",
       "      <td>11</td>\n",
       "      <td>1</td>\n",
       "      <td>W</td>\n",
       "    </tr>\n",
       "    <tr>\n",
       "      <th>1</th>\n",
       "      <td>30</td>\n",
       "      <td>2</td>\n",
       "      <td>36</td>\n",
       "      <td>23</td>\n",
       "      <td>9</td>\n",
       "      <td>0.391</td>\n",
       "      <td>87</td>\n",
       "      <td>53</td>\n",
       "      <td>0.609</td>\n",
       "      <td>34</td>\n",
       "      <td>...</td>\n",
       "      <td>142</td>\n",
       "      <td>46</td>\n",
       "      <td>22015</td>\n",
       "      <td>9</td>\n",
       "      <td>SAC</td>\n",
       "      <td>1610612758</td>\n",
       "      <td>Sacramento Kings</td>\n",
       "      <td>15</td>\n",
       "      <td>1</td>\n",
       "      <td>W</td>\n",
       "    </tr>\n",
       "    <tr>\n",
       "      <th>2</th>\n",
       "      <td>34</td>\n",
       "      <td>2</td>\n",
       "      <td>30</td>\n",
       "      <td>21</td>\n",
       "      <td>9</td>\n",
       "      <td>0.429</td>\n",
       "      <td>86</td>\n",
       "      <td>52</td>\n",
       "      <td>0.605</td>\n",
       "      <td>13</td>\n",
       "      <td>...</td>\n",
       "      <td>123</td>\n",
       "      <td>38</td>\n",
       "      <td>22015</td>\n",
       "      <td>10</td>\n",
       "      <td>SAS</td>\n",
       "      <td>1610612759</td>\n",
       "      <td>San Antonio Spurs</td>\n",
       "      <td>13</td>\n",
       "      <td>1</td>\n",
       "      <td>W</td>\n",
       "    </tr>\n",
       "    <tr>\n",
       "      <th>3</th>\n",
       "      <td>29</td>\n",
       "      <td>6</td>\n",
       "      <td>36</td>\n",
       "      <td>35</td>\n",
       "      <td>16</td>\n",
       "      <td>0.457</td>\n",
       "      <td>95</td>\n",
       "      <td>52</td>\n",
       "      <td>0.547</td>\n",
       "      <td>15</td>\n",
       "      <td>...</td>\n",
       "      <td>131</td>\n",
       "      <td>46</td>\n",
       "      <td>22015</td>\n",
       "      <td>10</td>\n",
       "      <td>GSW</td>\n",
       "      <td>1610612744</td>\n",
       "      <td>Golden State Warriors</td>\n",
       "      <td>15</td>\n",
       "      <td>1</td>\n",
       "      <td>W</td>\n",
       "    </tr>\n",
       "    <tr>\n",
       "      <th>4</th>\n",
       "      <td>34</td>\n",
       "      <td>8</td>\n",
       "      <td>38</td>\n",
       "      <td>31</td>\n",
       "      <td>8</td>\n",
       "      <td>0.258</td>\n",
       "      <td>104</td>\n",
       "      <td>52</td>\n",
       "      <td>0.500</td>\n",
       "      <td>16</td>\n",
       "      <td>...</td>\n",
       "      <td>122</td>\n",
       "      <td>46</td>\n",
       "      <td>22015</td>\n",
       "      <td>10</td>\n",
       "      <td>SAC</td>\n",
       "      <td>1610612758</td>\n",
       "      <td>Sacramento Kings</td>\n",
       "      <td>20</td>\n",
       "      <td>1</td>\n",
       "      <td>L</td>\n",
       "    </tr>\n",
       "  </tbody>\n",
       "</table>\n",
       "<p>5 rows × 29 columns</p>\n",
       "</div>"
      ],
      "text/plain": [
       "   AST  BLK  DREB  FG3A  FG3M  FG3_PCT  FGA  FGM  FG_PCT  FTA ...  PTS  REB  \\\n",
       "0   28    4    45    29     8    0.276  124   56   0.452   46 ...  147   64   \n",
       "1   30    2    36    23     9    0.391   87   53   0.609   34 ...  142   46   \n",
       "2   34    2    30    21     9    0.429   86   52   0.605   13 ...  123   38   \n",
       "3   29    6    36    35    16    0.457   95   52   0.547   15 ...  131   46   \n",
       "4   34    8    38    31     8    0.258  104   52   0.500   16 ...  122   46   \n",
       "\n",
       "  SEASON_ID STL TEAM_ABBREVIATION     TEAM_ID              TEAM_NAME  TOV  \\\n",
       "0     22015   7               DET  1610612765        Detroit Pistons   11   \n",
       "1     22015   9               SAC  1610612758       Sacramento Kings   15   \n",
       "2     22015  10               SAS  1610612759      San Antonio Spurs   13   \n",
       "3     22015  10               GSW  1610612744  Golden State Warriors   15   \n",
       "4     22015  10               SAC  1610612758       Sacramento Kings   20   \n",
       "\n",
       "   VIDEO_AVAILABLE  WL  \n",
       "0                1   W  \n",
       "1                1   W  \n",
       "2                1   W  \n",
       "3                1   W  \n",
       "4                1   L  \n",
       "\n",
       "[5 rows x 29 columns]"
      ]
     },
     "execution_count": 15,
     "metadata": {},
     "output_type": "execute_result"
    }
   ],
   "source": [
    "game_ids = gb.GameIDs()\n",
    "game_ids = pd.DataFrame(game_ids.game_list())\n",
    "\n",
    "game_ids.head()"
   ]
  },
  {
   "cell_type": "markdown",
   "metadata": {},
   "source": [
    "## 获得运动员的头像"
   ]
  },
  {
   "cell_type": "code",
   "execution_count": 1,
   "metadata": {
    "scrolled": false
   },
   "outputs": [
    {
     "ename": "NameError",
     "evalue": "name 'kobe_id' is not defined",
     "output_type": "error",
     "traceback": [
      "\u001b[1;31m---------------------------------------------------------------------------\u001b[0m",
      "\u001b[1;31mNameError\u001b[0m                                 Traceback (most recent call last)",
      "\u001b[1;32m<ipython-input-1-9312ae8614c4>\u001b[0m in \u001b[0;36m<module>\u001b[1;34m()\u001b[0m\n\u001b[0;32m      1\u001b[0m \u001b[1;32mfrom\u001b[0m \u001b[0mIPython\u001b[0m\u001b[1;33m.\u001b[0m\u001b[0mdisplay\u001b[0m \u001b[1;32mimport\u001b[0m \u001b[0mImage\u001b[0m\u001b[1;33m\u001b[0m\u001b[0m\n\u001b[0;32m      2\u001b[0m \u001b[1;33m\u001b[0m\u001b[0m\n\u001b[1;32m----> 3\u001b[1;33m \u001b[0mImage\u001b[0m\u001b[1;33m(\u001b[0m\u001b[1;34m\"http://stats.nba.com/media/players/230x185/\"\u001b[0m\u001b[1;33m+\u001b[0m\u001b[0mstr\u001b[0m\u001b[1;33m(\u001b[0m\u001b[0mkobe_id\u001b[0m\u001b[1;33m)\u001b[0m\u001b[1;33m+\u001b[0m\u001b[1;34m\".png\"\u001b[0m\u001b[1;33m)\u001b[0m\u001b[1;33m\u001b[0m\u001b[0m\n\u001b[0m",
      "\u001b[1;31mNameError\u001b[0m: name 'kobe_id' is not defined"
     ]
    }
   ],
   "source": [
    "from IPython.display import Image\n",
    "\n",
    "Image(\"http://stats.nba.com/media/players/230x185/\"+str(kobe_id)+\".png\")"
   ]
  },
  {
   "cell_type": "code",
   "execution_count": 4,
   "metadata": {},
   "outputs": [
    {
     "data": {
      "image/png": "[encoded data removed]",
      "text/plain": [
       "<IPython.core.display.Image object>"
      ]
     },
     "execution_count": 4,
     "metadata": {},
     "output_type": "execute_result"
    }
   ],
   "source": [
    "Image(\"http://stats.nba.com/media/players/230x185/\"+str(curry_id)+\".png\")"
   ]
  },
  {
   "cell_type": "markdown",
   "metadata": {},
   "source": [
    "## More"
   ]
  },
  {
   "cell_type": "markdown",
   "metadata": {},
   "source": [
    "修改了 `goldsberry\\player\\_Player.py` 代码中的错误，使之能够查询退役球员的信息，修改后的代码在本文件夹下，放到安装目录之后下面的代码均可以运行："
   ]
  },
  {
   "cell_type": "code",
   "execution_count": 18,
   "metadata": {
    "scrolled": true
   },
   "outputs": [],
   "source": [
    "from goldsberry.player import _Player as pl_old"
   ]
  },
  {
   "cell_type": "markdown",
   "metadata": {},
   "source": [
    "1997 年的球员列表："
   ]
  },
  {
   "cell_type": "code",
   "execution_count": 19,
   "metadata": {},
   "outputs": [],
   "source": [
    "players_1997 = pl_old.PlayerList(1997)\n",
    "\n",
    "players_1997 = pd.DataFrame(players_1997)"
   ]
  },
  {
   "cell_type": "markdown",
   "metadata": {},
   "source": [
    "乔丹的球员 ID："
   ]
  },
  {
   "cell_type": "code",
   "execution_count": 20,
   "metadata": {},
   "outputs": [
    {
     "data": {
      "text/plain": [
       "893"
      ]
     },
     "execution_count": 20,
     "metadata": {},
     "output_type": "execute_result"
    }
   ],
   "source": [
    "jordan_id = players_1997[\"PERSON_ID\"].ix[players_1997[\"DISPLAY_LAST_COMMA_FIRST\"].str.contains(\"Jordan, Michael\")]\n",
    "jordan_id = jordan_id[jordan_id.index[0]]\n",
    "jordan_id"
   ]
  },
  {
   "cell_type": "markdown",
   "metadata": {},
   "source": [
    "乔丹在 1997-1998 赛季常规赛表现："
   ]
  },
  {
   "cell_type": "code",
   "execution_count": 21,
   "metadata": {},
   "outputs": [
    {
     "name": "stdout",
     "output_type": "stream",
     "text": [
      "得分：28.7\n",
      "篮板：5.8\n",
      "助攻：3.5\n",
      "盖帽：0.5\n",
      "时间：38.9\n",
      "抢断：1.7\n",
      "失误：2.3\n",
      "犯规：1.8\n",
      "投篮：46.5%\n",
      "三分：23.8%\n",
      "罚篮：78.4%\n",
      "后篮板：4.2\n",
      "前篮板：1.6\n",
      "正负值：7.3\n"
     ]
    }
   ],
   "source": [
    "jordan_logs_1997 = pl_old.game_logs(jordan_id, season=\"1997\")\n",
    "jordan_logs_1997 = pd.DataFrame(jordan_logs_1997.logs())\n",
    "\n",
    "show_avg_info(jordan_logs_1997.mean())"
   ]
  },
  {
   "cell_type": "markdown",
   "metadata": {},
   "source": [
    "乔丹在 1997-1998 赛季季后赛表现："
   ]
  },
  {
   "cell_type": "code",
   "execution_count": 22,
   "metadata": {},
   "outputs": [
    {
     "name": "stdout",
     "output_type": "stream",
     "text": [
      "得分：32.4\n",
      "篮板：5.1\n",
      "助攻：3.5\n",
      "盖帽：0.6\n",
      "时间：41.0\n",
      "抢断：1.5\n",
      "失误：2.1\n",
      "犯规：2.2\n",
      "投篮：46.2%\n",
      "三分：30.2%\n",
      "罚篮：81.2%\n",
      "后篮板：3.5\n",
      "前篮板：1.6\n",
      "正负值：7.5\n"
     ]
    }
   ],
   "source": [
    "jordan_logs_1997 = pl_old.game_logs(jordan_id, season=\"1997\", seasontype=2)\n",
    "jordan_logs_1997 = pd.DataFrame(jordan_logs_1997.logs())\n",
    "\n",
    "show_avg_info(jordan_logs_1997.mean())"
   ]
  },
  {
   "cell_type": "markdown",
   "metadata": {},
   "source": [
    "头像："
   ]
  },
  {
   "cell_type": "code",
   "execution_count": 23,
   "metadata": {},
   "outputs": [
    {
     "data": {
      "image/png": "[encoded data removed]",
      "text/plain": [
       "<IPython.core.display.Image object>"
      ]
     },
     "execution_count": 23,
     "metadata": {},
     "output_type": "execute_result"
    }
   ],
   "source": [
    "Image(\"http://stats.nba.com/media/players/230x185/\"+str(jordan_id)+\".png\")"
   ]
  }
 ],
 "metadata": {
  "kernelspec": {
   "display_name": "Python 3",
   "language": "python",
   "name": "python3"
  },
  "language_info": {
   "codemirror_mode": {
    "name": "ipython",
    "version": 3
   },
   "file_extension": ".py",
   "mimetype": "text/x-python",
   "name": "python",
   "nbconvert_exporter": "python",
   "pygments_lexer": "ipython3",
   "version": "3.6.3"
  }
 },
 "nbformat": 4,
 "nbformat_minor": 1
}
